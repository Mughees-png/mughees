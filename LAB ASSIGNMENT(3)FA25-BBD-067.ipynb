{
 "cells": [
  {
   "cell_type": "raw",
   "id": "5374d0af-d3e9-4bc1-91ae-5f301fdc59ff",
   "metadata": {},
   "source": [
    "#NAME: MUHAMMAD MUGHEES ASIF\n",
    "ID: FA25-BBD-067\n",
    "SECTION:A"
   ]
  },
  {
   "cell_type": "markdown",
   "id": "7d8b8a5a-f179-4c84-ae05-49b1d6bfd402",
   "metadata": {},
   "source": [
    "#a: Dictionary to Store Person Information"
   ]
  },
  {
   "cell_type": "code",
   "execution_count": 4,
   "id": "efc46156-a071-40a6-8121-9bcb9d9c5983",
   "metadata": {},
   "outputs": [
    {
     "name": "stdout",
     "output_type": "stream",
     "text": [
      "{'name': 'Ali', 'age': 25, 'city': 'Lahore', 'hobbies': ['reading', 'cycling', 'coding']}\n"
     ]
    }
   ],
   "source": [
    "person = {\n",
    "    \"name\": \"Ali\",\n",
    "    \"age\": 25,\n",
    "    \"city\": \"Lahore\",\n",
    "    \"hobbies\": [\"reading\", \"cycling\", \"coding\"]\n",
    "}\n",
    "print(person)"
   ]
  },
  {
   "cell_type": "markdown",
   "id": "5bac284e-0fdb-42ee-a39a-40fcfe1c4439",
   "metadata": {},
   "source": [
    "#c:  Simple Inventory System Using Dictionaries"
   ]
  },
  {
   "cell_type": "code",
   "execution_count": 16,
   "id": "a6468f2a-d5de-4642-aadf-60724955e8b8",
   "metadata": {},
   "outputs": [
    {
     "name": "stdout",
     "output_type": "stream",
     "text": [
      "apple: 50\n",
      "banana: 40\n",
      "orange: 20\n",
      "grape: 40\n"
     ]
    }
   ],
   "source": [
    "inventory = {\n",
    "    \"apple\": 50,\n",
    "    \"banana\": 30,\n",
    "    \"orange\": 20\n",
    "}\n",
    "inventory[\"grape\"] = 40\n",
    "inventory[\"banana\"] += 10\n",
    "\n",
    "for item, quantity in inventory.items():\n",
    "    print(f\"{item}: {quantity}\")"
   ]
  },
  {
   "cell_type": "markdown",
   "id": "f0e17319-34c4-4a00-9a05-568c1d83c2e5",
   "metadata": {},
   "source": [
    "#e: Student Grades and Average Calculation"
   ]
  },
  {
   "cell_type": "code",
   "execution_count": 23,
   "id": "16fa4c8a-3dfb-4b8f-823f-19ca8e3cf7ff",
   "metadata": {},
   "outputs": [
    {
     "name": "stdout",
     "output_type": "stream",
     "text": [
      "Average Grade: 86.25\n"
     ]
    }
   ],
   "source": [
    "grades = {\n",
    "    \"Ali\": 85,\n",
    "    \"Sara\": 90,\n",
    "    \"Ahmed\": 78,\n",
    "    \"Zara\": 92\n",
    "}\n",
    "average = sum(grades.values()) / len(grades)\n",
    "print(f\"Average Grade: {average:.2f}\")"
   ]
  },
  {
   "cell_type": "markdown",
   "id": "8ecee9d8-a1b5-41df-b5d3-f0006f348ae9",
   "metadata": {},
   "source": [
    "#f: Inventory Management System"
   ]
  },
  {
   "cell_type": "code",
   "execution_count": 36,
   "id": "73178b70-c700-4009-bbb4-98cf7d9b97b4",
   "metadata": {},
   "outputs": [
    {
     "name": "stdout",
     "output_type": "stream",
     "text": [
      "Total Inventory Value: 7200000\n",
      "Low Stock Items: {'Laptop': {'quantity': 5, 'price': 1000000}, 'Monitor': {'quantity': 8, 'price': 25000}}\n"
     ]
    }
   ],
   "source": [
    "products = {\n",
    "    \"Laptop\": {\"quantity\": 5, \"price\": 1000000},\n",
    "    \"Mouse\": {\"quantity\": 50, \"price\": 15000},\n",
    "    \"Keyboard\": {\"quantity\": 20, \"price\": 70000}\n",
    "}\n",
    "def add_product(name, quantity, price):\n",
    "    products[name] = {\"quantity\": quantity, \"price\": price}\n",
    "def update_quantity(name, quantity):\n",
    "    if name in products:\n",
    "        products[name][\"quantity\"] += quantity\n",
    "def total_inventory_value():\n",
    "    return sum(info[\"quantity\"] * info[\"price\"] for info in products.values())\n",
    "def low_stock_report(threshold=10):\n",
    "    return {name: info for name, info in products.items() if info[\"quantity\"] < threshold}\n",
    "add_product(\"Monitor\", 8, 25000)\n",
    "update_quantity(\"Mouse\", -10)\n",
    "print(\"Total Inventory Value:\", total_inventory_value())\n",
    "print(\"Low Stock Items:\", low_stock_report())"
   ]
  },
  {
   "cell_type": "markdown",
   "id": "eb08a8df-e9ff-49c8-a2b9-18315596fa33",
   "metadata": {},
   "source": [
    "#g: Student Gradebook"
   ]
  },
  {
   "cell_type": "code",
   "execution_count": 38,
   "id": "83fbe08e-a9dc-4249-b194-00b6bce824cd",
   "metadata": {},
   "outputs": [
    {
     "name": "stdout",
     "output_type": "stream",
     "text": [
      "Average Grades: {'Ali': 85.0, 'Sara': 91.0, 'Ahmed': 71.66666666666667}\n"
     ]
    }
   ],
   "source": [
    "students = {\n",
    "    \"Ali\": {\"Math\": 85, \"English\": 78, \"Science\": 92},\n",
    "    \"Sara\": {\"Math\": 90, \"English\": 88, \"Science\": 95},\n",
    "    \"Ahmed\": {\"Math\": 70, \"English\": 65, \"Science\": 80}\n",
    "}\n",
    "averages = {name: sum(subjects.values()) / len(subjects) for name, subjects in students.items()}\n",
    "print(\"Average Grades:\", averages)"
   ]
  },
  {
   "cell_type": "code",
   "execution_count": 46,
   "id": "e38abe70-80a1-486b-9494-c4488bbf104b",
   "metadata": {},
   "outputs": [
    {
     "name": "stdout",
     "output_type": "stream",
     "text": [
      "Highest in Math: ('Sara', 90)\n",
      "Lowest in Math: ('Ahmed', 70)\n"
     ]
    }
   ],
   "source": [
    "subject = \"Math\"\n",
    "subject_grades = {name: subjects[subject] for name, subjects in students.items()}\n",
    "highest = max(subject_grades.items(), key=lambda x: x[1])\n",
    "lowest = min(subject_grades.items(), key=lambda x: x[1])\n",
    "print(f\"Highest in {subject}: {highest}\")\n",
    "print(f\"Lowest in {subject}: {lowest}\")"
   ]
  },
  {
   "cell_type": "code",
   "execution_count": 54,
   "id": "4f423d37-dfe1-4b26-ab1a-7c4fea3b139a",
   "metadata": {},
   "outputs": [
    {
     "name": "stdout",
     "output_type": "stream",
     "text": [
      "Sorted by Average Grade: [('Sara', 91.0), ('Ali', 85.0), ('Ahmed', 71.66666666666667)]\n"
     ]
    }
   ],
   "source": [
    "sorted_students = sorted(averages.items(), key=lambda x: x[1], reverse=True)\n",
    "print(\"Sorted by Average Grade:\", sorted_students)"
   ]
  },
  {
   "cell_type": "code",
   "execution_count": null,
   "id": "258a4f67-2c62-4bbc-b666-1536fff00f0b",
   "metadata": {},
   "outputs": [],
   "source": [
    " THE END"
   ]
  }
 ],
 "metadata": {
  "kernelspec": {
   "display_name": "Python 3 (ipykernel)",
   "language": "python",
   "name": "python3"
  },
  "language_info": {
   "codemirror_mode": {
    "name": "ipython",
    "version": 3
   },
   "file_extension": ".py",
   "mimetype": "text/x-python",
   "name": "python",
   "nbconvert_exporter": "python",
   "pygments_lexer": "ipython3",
   "version": "3.13.5"
  }
 },
 "nbformat": 4,
 "nbformat_minor": 5
}
