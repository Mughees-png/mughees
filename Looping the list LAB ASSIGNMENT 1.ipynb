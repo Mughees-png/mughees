{
  {
   "id": "2483ad0b-ac0a-41ac-878f-9458c1c234e7",
   "metadata": {},
    "SUBMITTED TO : SIR IMRAN SHAFIQUE\n",
    "DEPARTMENT : BS BUSINESS DATA ANALYTICS"
   ]
  },
  {
   "cell_type": "markdown",
   "metadata": {},
   "source": [
    "QUESTION #1: Write a for loop to print all even numbers from 2 to 20."
   ]
  {
   "execution_count": 2,
   "id": "a0b7094a-7130-4241-a822-1de81c072b88",
   "metadata": {},
   "outputs": [
    {
     "name": "stdout",
     "output_type": "stream",
     "text": [
      "2\n",
      "4\n",
      "6\n",
      "8\n",
      "10\n",
      "12\n",
      "14\n",
      "16\n",
      "18\n",
      "20\n"
     ]
    }
   ],
   "source": [
    "for num in range(2, 21, 2):\n",
    "    print(num)"
   ]
  },
  {
   "cell_type": "markdown",
   "id": "3e40a448-7927-4f73-8baf-f4486aa5571a",
   "metadata": {},
   "source": [
    "QUESTION #2: Create a list of names and use a for loop to print each name in uppercase."
   ]
  },
  {
   "cell_type": "code",
   "execution_count": 3,
   "id": "75eae711-bde0-4a89-89aa-1c015678d74c",
   "metadata": {},
   "outputs": [
    {
     "name": "stdout",
     "output_type": "stream",
     "text": [
      "MUGHEES\n",
      "AYESHA\n",
      "AMNA\n",
      "IBRAHIM\n"
     ]
    }
   ],
   "source": [
    "names = [\"mughees\", \"ayesha\", \"amna\", \"ibrahim\"]\n",
    "for name in names:\n",
    "    print(name.upper())"
   ]
  },
  {
   "cell_type": "markdown",
   "id": "45238c5b-4cab-482c-9f05-e9172b9587b3",
   "metadata": {},
   "source": [
    "QUESTION #3: Use a for loop with range() to print numbers from 10 to 1 in reverse order."
   ]
  },
  {
   "cell_type": "code",
   "execution_count": 4,
   "id": "2afb3d5e-3e02-45e9-94cc-387cb3a7e18e",
   "metadata": {},
   "outputs": [
    {
     "name": "stdout",
     "output_type": "stream",
     "text": [
      "10\n",
      "9\n",
      "8\n",
      "7\n",
      "6\n",
      "5\n",
      "4\n",
      "3\n",
      "2\n",
      "1\n"
     ]
    }
   ],
   "source": [
    "for num in range(10, 0, -1):\n",
    "    print(num)"
   ]
  },
  {
   "cell_type": "markdown",
   "id": "659983fa-508b-4b4d-9400-5e070ca252b0",
   "metadata": {},
   "source": [
    "QUESTION # 4: Iterate through a list of integers and print only the numbers that are divisible by 3."
   ]
  },
  {
   "cell_type": "code",
   "execution_count": 5,
   "id": "f8b2c5ac-623c-4b36-8581-f9c63cb39a6e",
   "metadata": {},
   "outputs": [
    {
     "name": "stdout",
     "output_type": "stream",
     "text": [
      "3\n",
      "9\n",
      "12\n",
      "18\n"
     ]
    }
   ],
   "source": [
    "numbers = [3, 5, 9, 12, 14, 18, 20]\n",
    "for num in numbers:\n",
    "    if num % 3 == 0:\n",
    "        print(num)"
   ]
  },
  {
   "cell_type": "raw",
   "id": "d426ee80-83ee-4e19-a7ad-1844986eac9d",
   "metadata": {},
   "source": [
    "QUESTION #5: Write a loop that prints the squares of numbers from 1 to 10."
   ]
  },
  {
   "cell_type": "code",
   "execution_count": 6,
   "id": "ada6a07b-e080-470b-94ed-e8e8c5509ffb",
   "metadata": {},
   "outputs": [
    {
     "name": "stdout",
     "output_type": "stream",
     "text": [
      "1\n",
      "4\n",
      "9\n",
      "16\n",
      "25\n",
      "36\n",
      "49\n",
      "64\n",
      "81\n",
      "100\n"
     ]
    }
   ],
   "source": [
    "for num in range(1, 11):\n",
    "    print(num ** 2)"
   ]
  },
  {
   "cell_type": "markdown",
   "id": "c54be008-325d-4e1c-a64f-fa12b6e0310c",
   "metadata": {},
   "source": [
    "QUESTION #6: Given a list of temperatures in Celsius, use a for loop to convert each to Fahrenheit."
   ]
  },
  {
   "cell_type": "code",
   "execution_count": 10,
   "id": "4561e314-f047-4115-9a5e-168a97108ce5",
   "metadata": {},
   "outputs": [
    {
     "name": "stdout",
     "output_type": "stream",
     "text": [
      "0°C = 32.0°F\n",
      "37°C = 98.6°F\n",
      "100°C = 212.0°F\n"
     ]
    }
   ],
   "source": [
    "Celsius = [0, 20, 37, 100]\n",
    "for temp in Celsius:\n",
    "    fahrenheit = (temp * 9/5) + 32\n",
    "    print(f\"{temp}°C = {fahrenheit}°F\")"
   ]
  },
  {
   "cell_type": "markdown",
   "id": "3885058e-df86-4cd7-b18e-0165f2b93726",
   "metadata": {},
   "source": [
    "QUESTION #7: Create a for loop that prints the multiplication table of 5."
   ]
  },
  {
   "cell_type": "code",
   "execution_count": 14,
   "id": "000add04-0cb5-4a81-91c3-0a86abcfc47f",
   "metadata": {},
   "outputs": [
    {
     "name": "stdout",
     "output_type": "stream",
     "text": [
      "5 x 1 = 5\n",
      "5 x 2 = 10\n",
      "5 x 3 = 15\n",
      "5 x 4 = 20\n",
      "5 x 5 = 25\n",
      "5 x 6 = 30\n",
      "5 x 7 = 35\n",
      "5 x 8 = 40\n",
      "5 x 9 = 45\n",
      "5 x 10 = 50\n"
     ]
    }
   ],
   "source": [
    "for i in range(1, 11):\n",
    "    print(f\"5 x {i} = {5 * i}\")"
   ]
  },
  {
   "cell_type": "markdown",
   "id": "28eb457f-f29e-4e67-87f3-6f2f182a6ef5",
   "metadata": {},
   "source": [
    "QUESTION #8: Write a program to find the sum of all numbers in a list using a for loop."
   ]
  },
  {
   "cell_type": "code",
   "execution_count": 15,
   "id": "35a1f435-6288-4daa-aad1-dad6ed0f49ef",
   "metadata": {},
   "outputs": [
    {
     "name": "stdout",
     "output_type": "stream",
     "text": [
      "Sum: 24\n"
     ]
    }
   ],
   "source": [
    "numbers = [4, 7, 1, 9, 3]\n",
    "total = 0\n",
    "for num in numbers:\n",
    "    total += num\n",
    "print(\"Sum:\", total)"
   ]
  },
  {
   "cell_type": "markdown",
   "id": "fbf33508-1100-47e0-a35d-ca14684e58c8",
   "metadata": {},
   "source": [
    "QUESTION #9: Use a for loop to iterate through a string and print each character separately."
   ]
  },
  {
   "cell_type": "code",
   "execution_count": 16,
   "id": "1b84288d-de14-4cdb-b6c1-f3e0b038e19e",
   "metadata": {},
   "outputs": [
    {
     "name": "stdout",
     "output_type": "stream",
     "text": [
      "M\n",
      "U\n",
      "G\n",
      "H\n",
      "E\n",
      "E\n",
      "S\n"
     ]
    }
   ],
   "source": [
    "text = \"MUGHEES\"\n",
    "for SIMBA in text:\n",
    "    print(SIMBA)"
   ]
  },
  {
   "cell_type": "markdown",
   "id": "0b4465cc-056a-479a-b3b6-0e1063abb38e",
   "metadata": {},
   "source": [
    "QUESTION #10: Create a list of words and use a for loop to print only the words with more than 5 letters. solve these 10 questions."
   ]
  },
  {
   "cell_type": "code",
   "execution_count": 17,
   "id": "d8f3c0f0-15c6-4f99-9f40-e1ab9a08871b",
   "metadata": {},
   "outputs": [
    {
     "name": "stdout",
     "output_type": "stream",
     "text": [
      "banana\n",
      "grapes\n",
      "walnuts\n",
      "pineapple\n"
     ]
    }
   ],
   "source": [
    "words = [\"apple\", \"banana\", \"grapes\", \"walnuts\", \"pineapple\"]\n",
    "for word in words:\n",
    "    if len(word) > 5:\n",
    "        print(word)"
   ]
  }
 ],
 "metadata": {
  "kernelspec": {
   "display_name": "Python 3 (ipykernel)",
   "language": "python",
   "name": "python3"
  },
  "language_info": {
   "codemirror_mode": {
    "name": "ipython",
    "version": 3
   },
   "file_extension": ".py",
   "mimetype": "text/x-python",
   "name": "python",
   "nbconvert_exporter": "python",
   "pygments_lexer": "ipython3",
   "version": "3.13.5"
  }
 },
 "nbformat": 4,
 "nbformat_minor": 5
}
